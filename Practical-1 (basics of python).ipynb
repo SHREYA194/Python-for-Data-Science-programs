{
 "cells": [
  {
   "cell_type": "markdown",
   "metadata": {},
   "source": [
    "# PRACTICAL-1 \n",
    "## Develop Programs To Understand The Control Structures, Branching Programs , Strings and Input Of Python and functions"
   ]
  },
  {
   "cell_type": "markdown",
   "metadata": {},
   "source": [
    "## <u>Practical 1.1</u> :  Write a Python Program to find those numbers which are divisible by 7 and multiple of 5, between 1500 and 2700."
   ]
  },
  {
   "cell_type": "code",
   "execution_count": 2,
   "metadata": {},
   "outputs": [
    {
     "name": "stdout",
     "output_type": "stream",
     "text": [
      "1505    1540    1575    1610    1645    1680    1715    1750    1785    1820    1855    1890    1925    1960    1995    2030    2065    2100    2135    2170    2205    2240    2275    2310    2345    2380    2415    2450    2485    2520    2555    2590    2625    2660    2695    "
     ]
    }
   ],
   "source": [
    "for i in range(1500,2701) :\n",
    "    if i % 7 == 0 and i % 5 == 0 :\n",
    "        print(i,end=\"    \")\n",
    "    else :\n",
    "        pass"
   ]
  },
  {
   "cell_type": "markdown",
   "metadata": {},
   "source": [
    "## <u>Practical 1.2</u> : Write a Python program to construct the following pattern, using nested for loop.    "
   ]
  },
  {
   "cell_type": "code",
   "execution_count": 36,
   "metadata": {
    "scrolled": true
   },
   "outputs": [
    {
     "name": "stdout",
     "output_type": "stream",
     "text": [
      "Enter half number of rows:5\n",
      "\n",
      "\n",
      "* \n",
      "\n",
      "* * \n",
      "\n",
      "* * * \n",
      "\n",
      "* * * * \n",
      "\n",
      "* * * * * \n",
      "\n",
      "* * * * \n",
      "\n",
      "* * * \n",
      "\n",
      "* * \n",
      "\n",
      "* \n",
      "\n",
      "\n",
      "\n"
     ]
    }
   ],
   "source": [
    "n =  int(input(\"Enter half number of rows:\"))\n",
    "\n",
    "for i in range(0,n+1) :\n",
    "    for j in range(0,i) :\n",
    "        print(\"*\",end=\" \")\n",
    "    print(\"\\n\")\n",
    "    \n",
    "for i in range(0,n) :\n",
    "    for j in range(n-1,i,-1) :\n",
    "        print(\"*\",end=\" \")\n",
    "    print(\"\\n\")"
   ]
  },
  {
   "cell_type": "markdown",
   "metadata": {},
   "source": [
    "## <u>Practical 1.3</u> : Write a Python program that accepts a word from user and reverse it (without using the reverse function)"
   ]
  },
  {
   "cell_type": "code",
   "execution_count": 5,
   "metadata": {},
   "outputs": [
    {
     "name": "stdout",
     "output_type": "stream",
     "text": [
      "Enter a word : dal\n",
      "Reverse word :  lad\n",
      "Reverse word by loop :  lad\n"
     ]
    }
   ],
   "source": [
    "word = input(\"Enter a word : \")\n",
    "print(\"Reverse word : \",word[::-1])\n",
    "\n",
    "rev = ''\n",
    "for i in word :\n",
    "    rev = i + rev\n",
    "print(\"Reverse word by loop : \",rev)"
   ]
  },
  {
   "cell_type": "markdown",
   "metadata": {},
   "source": [
    "## <u>Practical 1.4</u> : Write a Python program to check whether an alphabet is a vowel or consonant."
   ]
  },
  {
   "cell_type": "code",
   "execution_count": 9,
   "metadata": {},
   "outputs": [
    {
     "name": "stdout",
     "output_type": "stream",
     "text": [
      "Enter an alphabet : O\n",
      "Alphabet is a vowel.\n"
     ]
    }
   ],
   "source": [
    "alphabet = input(\"Enter an alphabet : \").lower()\n",
    "\n",
    "if alphabet=='a' or alphabet=='e' or alphabet=='i' or alphabet=='o' or alphabet=='u' :\n",
    "    print(\"Alphabet is a vowel.\")\n",
    "else :\n",
    "    print(\"Alphabet is a consonant.\")"
   ]
  },
  {
   "cell_type": "markdown",
   "metadata": {},
   "source": [
    "## <u>Practical 1.5</u> : Write a Python program to find reverse of given number."
   ]
  },
  {
   "cell_type": "code",
   "execution_count": 17,
   "metadata": {},
   "outputs": [
    {
     "name": "stdout",
     "output_type": "stream",
     "text": [
      "Enter a number : 9468\n",
      "Reverse number of given number :  8649\n"
     ]
    }
   ],
   "source": [
    "number = int(input(\"Enter a number : \"))\n",
    "\n",
    "rev=0\n",
    "while (number>0) :\n",
    "    rem = number % 10\n",
    "    rev = rev * 10 + rem\n",
    "    number = number // 10\n",
    "print(\"Reverse number of given number : \",rev)"
   ]
  },
  {
   "cell_type": "markdown",
   "metadata": {},
   "source": [
    "## <u>Practical 1.6</u> : Write a Python program to check whether the given no is Armstrong or not using user defined function."
   ]
  },
  {
   "cell_type": "code",
   "execution_count": 7,
   "metadata": {},
   "outputs": [
    {
     "name": "stdout",
     "output_type": "stream",
     "text": [
      "Enter a number : 153\n",
      "153  is an armstrong number.\n"
     ]
    }
   ],
   "source": [
    "number = int(input(\"Enter a number : \"))\n",
    "sum = 0 \n",
    "check_num = number\n",
    "while(check_num > 0) :\n",
    "    num = check_num % 10\n",
    "    sum = sum + num ** 3\n",
    "    check_num = check_num // 10\n",
    "    \n",
    "if sum == number :\n",
    "    print(number,\" is an armstrong number.\")\n",
    "else :\n",
    "    print(number,\" is not an armstrong number.\")"
   ]
  },
  {
   "cell_type": "markdown",
   "metadata": {},
   "source": [
    "## <u>Practical 1.7</u> : To write a Python program to find first n prime numbers."
   ]
  },
  {
   "cell_type": "code",
   "execution_count": 1,
   "metadata": {},
   "outputs": [
    {
     "name": "stdout",
     "output_type": "stream",
     "text": [
      "Maximum number for which you want : 5\n",
      "2 3 5 "
     ]
    }
   ],
   "source": [
    "n = int(input(\"Maximum number for which you want prime number : \"))\n",
    "\n",
    "for i in range(2,n+1,1) :\n",
    "    flag = 1\n",
    "    for j in range(2,i,1) :\n",
    "        if i%j==0 :\n",
    "            flag=0\n",
    "            break\n",
    "    if flag==1 :\n",
    "        print(i,end=\" \")         "
   ]
  },
  {
   "cell_type": "markdown",
   "metadata": {},
   "source": [
    "## <u>Practical 1.8</u> : Write a Python program to print Fibonacci series upto n terms."
   ]
  },
  {
   "cell_type": "code",
   "execution_count": 7,
   "metadata": {},
   "outputs": [
    {
     "name": "stdout",
     "output_type": "stream",
     "text": [
      "Enter n : 10\n",
      "0 1 1 2 3 5 8 13 21 34 "
     ]
    }
   ],
   "source": [
    "num = int(input(\"Enter n : \"))\n",
    "n1 = 0\n",
    "n2 = 1\n",
    "sum=0 \n",
    "print(n1 , n2 , end=\" \")\n",
    "for i in range(num-2) :\n",
    "    sum = n1 + n2\n",
    "    print(sum,end=\" \")\n",
    "    n1 = n2\n",
    "    n2 = sum"
   ]
  },
  {
   "cell_type": "markdown",
   "metadata": {},
   "source": [
    "## <u>Practical 1.9</u> : Give the output of following Python code:"
   ]
  },
  {
   "cell_type": "markdown",
   "metadata": {},
   "source": [
    "## a) \n",
    "        myStr = ‘GTU is the best University’\n",
    "        print myStr [15 : : 1]\n",
    "        print myStr [-10 : -1 : 2]"
   ]
  },
  {
   "cell_type": "code",
   "execution_count": 3,
   "metadata": {},
   "outputs": [
    {
     "name": "stdout",
     "output_type": "stream",
     "text": [
      " University\n",
      "Uiest\n"
     ]
    }
   ],
   "source": [
    "myStr = 'GTU is the best University'\n",
    "print(myStr[15 : : 1])\n",
    "print(myStr[-10 : -1 : 2])"
   ]
  },
  {
   "cell_type": "markdown",
   "metadata": {},
   "source": [
    "## b)\n",
    "        t = (1, 2, 3, (4, ), [ 5, 6] )\n",
    "        print t[ 3 ]\n",
    "        t[4][0] = 7\n",
    "        print t"
   ]
  },
  {
   "cell_type": "code",
   "execution_count": 16,
   "metadata": {},
   "outputs": [
    {
     "name": "stdout",
     "output_type": "stream",
     "text": [
      "(4,)\n",
      "(1, 2, 3, (4,), [7, 6])\n"
     ]
    }
   ],
   "source": [
    "t = (1, 2, 3, (4, ), [ 5, 6] )\n",
    "print(t[ 3 ])\n",
    "t[4][0] = 7\n",
    "print(t)"
   ]
  },
  {
   "cell_type": "markdown",
   "metadata": {},
   "source": [
    "## c)\n",
    "        I=[(x, y) for x in [1,2,3] for y in [3,1,4] if x !=y]\n",
    "        print I"
   ]
  },
  {
   "cell_type": "code",
   "execution_count": 17,
   "metadata": {},
   "outputs": [
    {
     "name": "stdout",
     "output_type": "stream",
     "text": [
      "[(1, 3), (1, 4), (2, 3), (2, 1), (2, 4), (3, 1), (3, 4)]\n"
     ]
    }
   ],
   "source": [
    "I=[(x, y) for x in [1,2,3] for y in [3,1,4] if x !=y]\n",
    "print(I)"
   ]
  },
  {
   "cell_type": "markdown",
   "metadata": {},
   "source": [
    "## d)\n",
    "        str1 = ‘This is Pyhton’\n",
    "        print \"Slice of String : \", str1[1 : 4 : 1]\n",
    "        print \"Slice of String : \", str1[0 : -1 : 2]"
   ]
  },
  {
   "cell_type": "code",
   "execution_count": 20,
   "metadata": {},
   "outputs": [
    {
     "name": "stdout",
     "output_type": "stream",
     "text": [
      "Slice of String :  his\n",
      "Slice of String :  Ti sPho\n"
     ]
    }
   ],
   "source": [
    "str1 = 'This is Pyhton'\n",
    "print(\"Slice of String : \", str1[1 : 4 : 1])\n",
    "print(\"Slice of String : \", str1[0 : -1 : 2])"
   ]
  }
 ],
 "metadata": {
  "kernelspec": {
   "display_name": "Python 3",
   "language": "python",
   "name": "python3"
  },
  "language_info": {
   "codemirror_mode": {
    "name": "ipython",
    "version": 3
   },
   "file_extension": ".py",
   "mimetype": "text/x-python",
   "name": "python",
   "nbconvert_exporter": "python",
   "pygments_lexer": "ipython3",
   "version": "3.7.6"
  }
 },
 "nbformat": 4,
 "nbformat_minor": 4
}
