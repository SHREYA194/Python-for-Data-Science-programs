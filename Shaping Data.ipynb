{
 "cells": [
  {
   "cell_type": "markdown",
   "metadata": {},
   "source": [
    "## Parsing XML and HTML"
   ]
  },
  {
   "cell_type": "code",
   "execution_count": 3,
   "metadata": {},
   "outputs": [
    {
     "name": "stdout",
     "output_type": "stream",
     "text": [
      "<class 'int'>\n",
      "<class 'bool'>\n"
     ]
    }
   ],
   "source": [
    "from lxml import objectify\n",
    "import pandas as pd\n",
    "from distutils import util\n",
    "\n",
    "xml = objectify.parse(open('res/XMLData.xml'))\n",
    "root = xml.getroot()\n",
    "df = pd.DataFrame(columns=('Number','Boolean'))\n",
    "\n",
    "for i in range(0,4) :\n",
    "    obj = root.getchildren()[i].getchildren()\n",
    "    row = dict(zip(['Number', 'Boolean'], [obj[0].pyval, bool(util.strtobool(obj[2].text))]))\n",
    "    row_s = pd.Series(row)\n",
    "    row_s.name = obj[1].text\n",
    "    df = df.append(row_s)\n",
    "print(type(df.loc['First']['Number']))\n",
    "print(type(df.loc['First']['Boolean']))"
   ]
  },
  {
   "cell_type": "markdown",
   "metadata": {},
   "source": [
    "## Using XPath for data extraction"
   ]
  },
  {
   "cell_type": "code",
   "execution_count": 6,
   "metadata": {},
   "outputs": [
    {
     "name": "stdout",
     "output_type": "stream",
     "text": [
      "        Number  Boolean\n",
      "First        1     True\n",
      "Second       2    False\n",
      "Third        3     True\n",
      "Fourth       4    False\n",
      "<class 'numpy.int64'>\n",
      "<class 'numpy.bool_'>\n"
     ]
    }
   ],
   "source": [
    "from lxml import objectify\n",
    "import pandas as pd\n",
    "from distutils import util\n",
    "\n",
    "xml = objectify.parse(open('res/XMLData.xml'))\n",
    "root = xml.getroot()\n",
    "\n",
    "map_number = map(int, root.xpath('Record/Number'))\n",
    "map_bool = map(str, root.xpath('Record/Boolean'))\n",
    "map_bool = map(util.strtobool, map_bool)\n",
    "map_bool = map(bool, map_bool)\n",
    "map_string = map(str, root.xpath('Record/String'))\n",
    "\n",
    "data = list(zip(map_number,map_bool))\n",
    "\n",
    "df = pd.DataFrame(data, columns=('Number','Boolean'), index=list(map_string))\n",
    "print(df)\n",
    "print(type(df.loc['First']['Number']))\n",
    "print(type(df.loc['First']['Boolean']))"
   ]
  },
  {
   "cell_type": "markdown",
   "metadata": {},
   "source": [
    "## Stemming and Removing stop words"
   ]
  },
  {
   "cell_type": "code",
   "execution_count": 6,
   "metadata": {},
   "outputs": [],
   "source": [
    "import nltk"
   ]
  },
  {
   "cell_type": "code",
   "execution_count": 8,
   "metadata": {},
   "outputs": [
    {
     "name": "stdout",
     "output_type": "stream",
     "text": [
      "showing info https://raw.githubusercontent.com/nltk/nltk_data/gh-pages/index.xml\n",
      "showing info https://raw.githubusercontent.com/nltk/nltk_data/gh-pages/index.xml\n"
     ]
    },
    {
     "data": {
      "text/plain": [
       "True"
      ]
     },
     "execution_count": 8,
     "metadata": {},
     "output_type": "execute_result"
    }
   ],
   "source": [
    "nltk.download()"
   ]
  },
  {
   "cell_type": "code",
   "execution_count": 10,
   "metadata": {
    "scrolled": true
   },
   "outputs": [
    {
     "name": "stdout",
     "output_type": "stream",
     "text": [
      "['love', 'sam', 'swim', 'time']\n",
      "[[1 0 1 0]]\n"
     ]
    }
   ],
   "source": [
    "from sklearn.feature_extraction.text import *\n",
    "from nltk.tokenize import word_tokenize\n",
    "from nltk.stem.porter import PorterStemmer\n",
    "\n",
    "stemmer = PorterStemmer()\n",
    "\n",
    "def tokenize(text) :\n",
    "    tokens = word_tokenize(text)\n",
    "    stems = stem_tokens(tokens, stemmer)\n",
    "    return stems\n",
    "\n",
    "def stem_tokens(tokens, stemmer):\n",
    "    stemmed = []\n",
    "    for item in tokens:\n",
    "        stemmed.append(stemmer.stem(item))\n",
    "    return stemmed\n",
    "\n",
    "vocab = ['Sam loves swimming so he swims all the time']\n",
    "vect = CountVectorizer(tokenizer=tokenize, stop_words='english')\n",
    "vec = vect.fit(vocab)\n",
    "sen = vec.transform(['George loves swimming too!'])\n",
    "print(vec.get_feature_names())\n",
    "print(sen.toarray())"
   ]
  },
  {
   "cell_type": "markdown",
   "metadata": {},
   "source": [
    "## Introducing Regular Expression"
   ]
  },
  {
   "cell_type": "code",
   "execution_count": 12,
   "metadata": {},
   "outputs": [
    {
     "name": "stdout",
     "output_type": "stream",
     "text": [
      "('800', '555', '1212')\n",
      "('800', '555', '1234')\n"
     ]
    }
   ],
   "source": [
    "import re\n",
    "\n",
    "data1 = 'My phone number is: 800-555-1212.'\n",
    "data2 = '800-555-1234 is my phone number.'\n",
    "\n",
    "pattern = re.compile(r'(\\d{3})-(\\d{3})-(\\d{4})')\n",
    "                     \n",
    "dmatch1 = pattern.search(data1).groups()\n",
    "dmatch2 = pattern.search(data2).groups()\n",
    "                     \n",
    "print(dmatch1)\n",
    "print(dmatch2)"
   ]
  },
  {
   "cell_type": "markdown",
   "metadata": {},
   "source": [
    "## Using Bag of Words Model"
   ]
  },
  {
   "cell_type": "code",
   "execution_count": 15,
   "metadata": {},
   "outputs": [
    {
     "name": "stdout",
     "output_type": "stream",
     "text": [
      "BOW shape: (2356, 34750)\n",
      "\"Caltech\": 3\n"
     ]
    }
   ],
   "source": [
    "from sklearn.datasets import fetch_20newsgroups\n",
    "from sklearn.feature_extraction.text import *\n",
    "\n",
    "categories = ['comp.graphics', 'misc.forsale', 'rec.autos', 'sci.space']\n",
    "twenty_train = fetch_20newsgroups(subset='train', categories=categories, shuffle=True, random_state=42)\n",
    "\n",
    "count_vect = CountVectorizer()\n",
    "X_train_counts = count_vect.fit_transform(twenty_train.data)\n",
    "\n",
    "print(\"BOW shape:\", X_train_counts.shape)\n",
    "caltech_idx = count_vect.vocabulary_['caltech']\n",
    "print('\"Caltech\": %i' % X_train_counts[0, caltech_idx])"
   ]
  },
  {
   "cell_type": "markdown",
   "metadata": {},
   "source": [
    "## Working with n-grams"
   ]
  },
  {
   "cell_type": "code",
   "execution_count": 16,
   "metadata": {},
   "outputs": [
    {
     "name": "stdout",
     "output_type": "stream",
     "text": [
      "[' an', ' in', ' of', ' th', ' to', 'he ', 'ing', 'ion', 'nd ', 'the']\n",
      "[[0 0 2 5 1 4 2 2 0 5]]\n",
      "['anonymous ftp', 'commercial space', 'gamma ray', 'nasa gov', 'national space', 'remote sensing', 'sci space', 'space shuttle', 'space station', 'washington dc']\n"
     ]
    }
   ],
   "source": [
    "from sklearn.datasets import fetch_20newsgroups\n",
    "from sklearn.feature_extraction.text import *\n",
    "\n",
    "categories = ['sci.space']\n",
    "\n",
    "twenty_train = fetch_20newsgroups(subset='train', categories=categories, remove=('headers', 'footers', 'quotes'), shuffle=True, random_state=42)\n",
    "\n",
    "count_chars = CountVectorizer(analyzer='char_wb', ngram_range=(3,3), max_features=10)\n",
    "\n",
    "count_chars.fit(twenty_train['data'])\n",
    "\n",
    "count_words = CountVectorizer(analyzer='word', ngram_range=(2,2,), max_features=10, stop_words='english')\n",
    "\n",
    "count_words.fit(twenty_train['data'])\n",
    "\n",
    "X = count_chars.transform(twenty_train.data)\n",
    "\n",
    "print(count_chars.get_feature_names())\n",
    "print(X[1].todense())\n",
    "print(count_words.get_feature_names())"
   ]
  },
  {
   "cell_type": "markdown",
   "metadata": {},
   "source": [
    "## Implementing TF-IDF transformations"
   ]
  },
  {
   "cell_type": "code",
   "execution_count": 22,
   "metadata": {},
   "outputs": [
    {
     "name": "stdout",
     "output_type": "stream",
     "text": [
      "\"Caltech\" scored in a BOW:\n",
      "count: 3.000\n",
      "TF-IDF: 0.123\n"
     ]
    }
   ],
   "source": [
    "from sklearn.datasets import fetch_20newsgroups\n",
    "from sklearn.feature_extraction.text import *\n",
    "\n",
    "categories = ['comp.graphics', 'misc.forsale', 'rec.autos', 'sci.space']\n",
    "tewnty_train = fetch_20newsgroups(subset='train', categories=categories, shuffle=True, random_state=42)\n",
    "\n",
    "count_vect = CountVectorizer()\n",
    "X_train_counts = count_vect.fit_transform(twenty_train.data)\n",
    "\n",
    "tfidf = TfidfTransformer().fit(X_train_counts)\n",
    "X_train_tfidf = tfidf.transform(X_train_counts)\n",
    "\n",
    "caltech_idx = count_vect.vocabulary_['caltech']\n",
    "print('\"Caltech\" scored in a BOW:')\n",
    "print('count: %0.3f' % X_train_counts[0, caltech_idx])\n",
    "print('TF-IDF: %0.3f' % X_train_tfidf[0, caltech_idx])"
   ]
  },
  {
   "cell_type": "code",
   "execution_count": 23,
   "metadata": {},
   "outputs": [
    {
     "name": "stdout",
     "output_type": "stream",
     "text": [
      "mean count: 1.698\n",
      "mean TF-IDF: 0.064\n"
     ]
    }
   ],
   "source": [
    "import numpy as np\n",
    "\n",
    "count = np.mean(X_train_counts[X_train_counts>0])\n",
    "tfidf = np.mean(X_train_tfidf[X_train_tfidf>0])\n",
    "\n",
    "print('mean count: %0.3f' % np.mean(count))\n",
    "print('mean TF-IDF: %0.3f' % np.mean(tfidf))"
   ]
  },
  {
   "cell_type": "markdown",
   "metadata": {},
   "source": [
    "## Working with Graph Data"
   ]
  },
  {
   "cell_type": "code",
   "execution_count": 25,
   "metadata": {},
   "outputs": [
    {
     "name": "stdout",
     "output_type": "stream",
     "text": [
      "[[0 1 0 0 0 0 0 0 0 1]\n",
      " [1 0 1 0 0 0 0 0 0 0]\n",
      " [0 1 0 1 0 0 0 0 0 0]\n",
      " [0 0 1 0 1 0 0 0 0 0]\n",
      " [0 0 0 1 0 1 0 0 0 0]\n",
      " [0 0 0 0 1 0 1 0 0 0]\n",
      " [0 0 0 0 0 1 0 1 0 0]\n",
      " [0 0 0 0 0 0 1 0 1 0]\n",
      " [0 0 0 0 0 0 0 1 0 1]\n",
      " [1 0 0 0 0 0 0 0 1 0]]\n"
     ]
    }
   ],
   "source": [
    "import networkx as nx\n",
    "\n",
    "G = nx.cycle_graph(10)\n",
    "A = nx.adjacency_matrix(G)\n",
    "\n",
    "print(A.todense())"
   ]
  },
  {
   "cell_type": "code",
   "execution_count": 26,
   "metadata": {},
   "outputs": [
    {
     "data": {
      "image/png": "[encoded data removed]",
      "text/plain": [
       "<Figure size 432x288 with 1 Axes>"
      ]
     },
     "metadata": {},
     "output_type": "display_data"
    }
   ],
   "source": [
    "import matplotlib.pyplot as plt\n",
    "%matplotlib inline\n",
    "nx.draw_networkx(G)\n",
    "plt.show()"
   ]
  },
  {
   "cell_type": "code",
   "execution_count": 27,
   "metadata": {},
   "outputs": [
    {
     "data": {
      "image/png": "[encoded data removed]",
      "text/plain": [
       "<Figure size 432x288 with 1 Axes>"
      ]
     },
     "metadata": {},
     "output_type": "display_data"
    }
   ],
   "source": [
    "G.add_edge(1, 5)\n",
    "nx.draw_networkx(G)\n",
    "plt.show()"
   ]
  }
 ],
 "metadata": {
  "kernelspec": {
   "display_name": "Python 3",
   "language": "python",
   "name": "python3"
  },
  "language_info": {
   "codemirror_mode": {
    "name": "ipython",
    "version": 3
   },
   "file_extension": ".py",
   "mimetype": "text/x-python",
   "name": "python",
   "nbconvert_exporter": "python",
   "pygments_lexer": "ipython3",
   "version": "3.7.6"
  }
 },
 "nbformat": 4,
 "nbformat_minor": 4
}
