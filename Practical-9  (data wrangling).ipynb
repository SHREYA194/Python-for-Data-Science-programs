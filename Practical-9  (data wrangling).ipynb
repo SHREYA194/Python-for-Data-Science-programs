{
 "cells": [
  {
   "cell_type": "markdown",
   "metadata": {},
   "source": [
    "# Working with Data Wrangling"
   ]
  },
  {
   "cell_type": "markdown",
   "metadata": {},
   "source": [
    "## 9.1   Load the Boston dataset from sklearn library concerns the housing prices in housing city of Boston. The dataset provided has 506 instances with 13 features. Split the data into training and testing sets. Train the model with 80% of the samples and test with the remaining 20%.\n",
    "### •\tPredict the house prices for testing dataset.\n"
   ]
  },
  {
   "cell_type": "code",
   "execution_count": 6,
   "metadata": {},
   "outputs": [
    {
     "name": "stdout",
     "output_type": "stream",
     "text": [
      "Mean Squared Error : 25.419587\n",
      "Root Mean Squared Error (RMSE) : 5.041784\n"
     ]
    }
   ],
   "source": [
    "# Import needed libraries\n",
    "import pandas as pd\n",
    "import matplotlib.pyplot as plt\n",
    "\n",
    "# Import data from load_boston dataset\n",
    "from sklearn.datasets import load_boston\n",
    "boston = load_boston()\n",
    "df = pd.DataFrame(boston.data)\n",
    "df.columns = boston.feature_names\n",
    "\n",
    "# Split boston data into train and test data in the ratio of (80, 20)\n",
    "from sklearn.model_selection import train_test_split\n",
    "X = boston.data\n",
    "y = boston.target\n",
    "\n",
    "X_train, X_test, y_train, y_test = train_test_split(X, y, test_size=0.2, random_state=4 )\n",
    "\n",
    "# LinearRegression model for training data\n",
    "from sklearn.linear_model import LinearRegression\n",
    "from sklearn.metrics import mean_squared_error\n",
    "\n",
    "lin_reg = LinearRegression()\n",
    "lin_reg.fit(X_train, y_train)\n",
    "\n",
    "# Create prediction\n",
    "y_predict = lin_reg.predict(X_test)\n",
    "\n",
    "# Error Calculation by MSE\n",
    "mse = mean_squared_error(y_test, y_predict)\n",
    "print('Mean Squared Error : %.6f'% mse)\n",
    "\n",
    "# Error Calculation by RMSE\n",
    "from math import sqrt\n",
    "print('Root Mean Squared Error (RMSE) : %.6f' % sqrt(mse))"
   ]
  },
  {
   "cell_type": "code",
   "execution_count": null,
   "metadata": {},
   "outputs": [],
   "source": []
  }
 ],
 "metadata": {
  "kernelspec": {
   "display_name": "Python 3",
   "language": "python",
   "name": "python3"
  },
  "language_info": {
   "codemirror_mode": {
    "name": "ipython",
    "version": 3
   },
   "file_extension": ".py",
   "mimetype": "text/x-python",
   "name": "python",
   "nbconvert_exporter": "python",
   "pygments_lexer": "ipython3",
   "version": "3.7.6"
  }
 },
 "nbformat": 4,
 "nbformat_minor": 4
}
