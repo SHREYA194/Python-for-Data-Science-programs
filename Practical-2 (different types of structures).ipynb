{
 "cells": [
  {
   "cell_type": "markdown",
   "metadata": {},
   "source": [
    "# Practical - 2\n",
    "# Develop programs to learn different types of structures (list, dictionary, tuples) in python"
   ]
  },
  {
   "cell_type": "markdown",
   "metadata": {},
   "source": [
    "## Practical 2.1 : To write a Python Program to find the maximum from a list of numbers.  "
   ]
  },
  {
   "cell_type": "code",
   "execution_count": 20,
   "metadata": {},
   "outputs": [
    {
     "name": "stdout",
     "output_type": "stream",
     "text": [
      "Enter number of elements in list : 6\n",
      "Enter 6 list elements : \n",
      "4\n",
      "6\n",
      "7\n",
      "1\n",
      "5\n",
      "2\n",
      "Sorted list : [1, 2, 4, 5, 6, 7] \n",
      "Maximum element in list : 7\n"
     ]
    }
   ],
   "source": [
    "n = int(input(\"Enter number of elements in list : \"))\n",
    "list = []\n",
    "print(\"Enter %d list elements : \" % n)\n",
    "for i in range(n) :\n",
    "    list.append(int(input()))\n",
    "list.sort()\n",
    "print(\"Sorted list : %s \\nMaximum element in list : %d\" % (list,list[len(list)-1]))"
   ]
  },
  {
   "cell_type": "markdown",
   "metadata": {},
   "source": [
    "## Practical 2.2 : Write a Python program which will return the sum of the numbers in the array, returning 0 for an empty array. Except the number 13 is very unlucky, so it does not count and number that come immediately after 13 also do not count. Example : [1, 2, 3, 4] = 10 [1, 2, 3, 4, 13] = 10 [13, 1, 2, 3, 13] = 5"
   ]
  },
  {
   "cell_type": "code",
   "execution_count": 44,
   "metadata": {},
   "outputs": [
    {
     "name": "stdout",
     "output_type": "stream",
     "text": [
      "Enter number of elements in an array : 5\n",
      "Enter 5 list elements : \n",
      "5\n",
      "1\n",
      "13\n",
      "4\n",
      "9\n",
      "Sum of array numbers as per constraints =  15\n"
     ]
    }
   ],
   "source": [
    "n = int(input(\"Enter number of elements in an array : \"))\n",
    "array = []\n",
    "print(\"Enter %d list elements : \" % n)\n",
    "sum = 0\n",
    "for i in range(n) :\n",
    "    array.append(int(input()))\n",
    "for i in range(0,n) :\n",
    "    if array[i] == 13 or array[i-1] == 13 :\n",
    "        pass\n",
    "    else :\n",
    "        sum = sum + array[i]\n",
    "print(\"Sum of array numbers as per constraints = \",sum)"
   ]
  },
  {
   "cell_type": "markdown",
   "metadata": {},
   "source": [
    "## Practical 2.2 : Write a Python program which takes a list and returns a list with the elements \"shifted left by one position\" so [1, 2, 3] yields [2, 3, 1]. Example: [1, 2, 3] → [2, 3, 1] [11, 12, 13] → [12, 13, 11]"
   ]
  },
  {
   "cell_type": "code",
   "execution_count": 52,
   "metadata": {},
   "outputs": [
    {
     "name": "stdout",
     "output_type": "stream",
     "text": [
      "Enter number of elements in list : 4\n",
      "Enter 4 list elements : \n",
      "6\n",
      "1\n",
      "8\n",
      "11\n",
      "Shifted left by one position list : \n",
      "1  8  11  6\n"
     ]
    }
   ],
   "source": [
    "n = int(input(\"Enter number of elements in list : \"))\n",
    "list = []\n",
    "print(\"Enter %d list elements : \" % n)\n",
    "for i in range(n) :\n",
    "    list.append(int(input()))\n",
    "print(\"Shifted left by one position list : \")\n",
    "for i in range(n-1) :\n",
    "    print(list[i+1] , end = \"  \")\n",
    "print(list[0])"
   ]
  },
  {
   "cell_type": "markdown",
   "metadata": {},
   "source": [
    "## Practical 2.3 : Write a program to convert a list of characters into a string"
   ]
  },
  {
   "cell_type": "code",
   "execution_count": 61,
   "metadata": {},
   "outputs": [
    {
     "name": "stdout",
     "output_type": "stream",
     "text": [
      "Enter number of elements in list : 8\n",
      "Enter 8 list elements : \n",
      "W\n",
      "e\n",
      "l\n",
      "c\n",
      "o\n",
      "m\n",
      "e\n",
      "!\n",
      "Given list into string :  Welcome!\n"
     ]
    }
   ],
   "source": [
    "n = int(input(\"Enter number of elements in list : \"))\n",
    "list = []\n",
    "print(\"Enter %d list elements : \" % n)\n",
    "for i in range(n) :\n",
    "    list.append(input())\n",
    "str=\"\"\n",
    "for i in list :\n",
    "    str = str + i\n",
    "print(\"Given list into string : \",str)"
   ]
  },
  {
   "cell_type": "markdown",
   "metadata": {},
   "source": [
    "## Practical 2.4 : Write a Python program\n",
    "\n",
    "### 1) To generate a list except for the first 5 elements, where the values are square of numbers between 1 and 30(both included)"
   ]
  },
  {
   "cell_type": "code",
   "execution_count": 19,
   "metadata": {},
   "outputs": [
    {
     "name": "stdout",
     "output_type": "stream",
     "text": [
      "List as per the constraints :  [36, 49, 64, 81, 100, 121, 144, 169, 196, 225, 256, 289, 324, 361, 400, 441, 484, 529, 576, 625, 676, 729, 784, 841, 900]\n"
     ]
    }
   ],
   "source": [
    "list = []\n",
    "for i in range(1,31) :\n",
    "    if i in range(1,6) :\n",
    "        continue\n",
    "    else :\n",
    "        list.append(i*i)\n",
    "print(\"List as per the constraints : \",list)"
   ]
  },
  {
   "cell_type": "markdown",
   "metadata": {},
   "source": [
    "## Practical 2.4 : Write a Python program\n",
    "### 2) To generate a list of first and last 5 elements where the values are square of numbers btween 1 and 30."
   ]
  },
  {
   "cell_type": "code",
   "execution_count": 15,
   "metadata": {},
   "outputs": [
    {
     "name": "stdout",
     "output_type": "stream",
     "text": [
      "List as per the constraints :  [1, 4, 9, 16, 25, 676, 729, 784, 841, 900]\n"
     ]
    }
   ],
   "source": [
    "list = [] \n",
    "for i in range(1,31):\n",
    "    if i in range(1,6) :\n",
    "        list.append(i*i)\n",
    "    elif i in range(26,31) :\n",
    "        list.append(i*i)\n",
    "    else :\n",
    "        continue\n",
    "print(\"List as per the constraints : \",list)"
   ]
  },
  {
   "cell_type": "markdown",
   "metadata": {},
   "source": [
    "## Practical 2.5 : Write a python program to print numbers given in the list after removing even numbers from it."
   ]
  },
  {
   "cell_type": "code",
   "execution_count": 18,
   "metadata": {},
   "outputs": [
    {
     "name": "stdout",
     "output_type": "stream",
     "text": [
      "Enter number of elements in list : 7\n",
      "Enter 7 list elements : \n",
      "4\n",
      "1\n",
      "5\n",
      "8\n",
      "9\n",
      "2\n",
      "7\n",
      "After removing even numbers from list :  [1, 5, 9, 7]\n"
     ]
    }
   ],
   "source": [
    "n = int(input(\"Enter number of elements in list : \"))\n",
    "list = []\n",
    "print(\"Enter %d list elements : \" % n)\n",
    "for i in range(n) :\n",
    "    list.append(int(input()))\n",
    "for i in list :\n",
    "    if i % 2 == 0 :\n",
    "        list.remove(i)\n",
    "print(\"After removing even numbers from list : \",list)"
   ]
  },
  {
   "cell_type": "markdown",
   "metadata": {},
   "source": [
    "## Practical 2.6 : Write a program to count the numbers of characters in the string and store them in a dictionary data structure."
   ]
  },
  {
   "cell_type": "code",
   "execution_count": 2,
   "metadata": {},
   "outputs": [
    {
     "name": "stdout",
     "output_type": "stream",
     "text": [
      "Enter string : welcome WeLCome\n",
      "{'w': 1, 'e': 4, 'l': 1, 'c': 1, 'o': 2, 'm': 2, ' ': 1, 'W': 1, 'L': 1, 'C': 1}\n"
     ]
    }
   ],
   "source": [
    "str = input(\"Enter string : \")\n",
    "lettercount = dict()\n",
    "for ch in str :\n",
    "    if ch not in lettercount :\n",
    "        lettercount[ch] = 1\n",
    "    else :\n",
    "        lettercount[ch] += 1\n",
    "print(lettercount)"
   ]
  },
  {
   "cell_type": "markdown",
   "metadata": {},
   "source": [
    "## Practical 2.7 : Write a program to use split and join methods in the string and trace a birthday with a dictionary data structure."
   ]
  },
  {
   "cell_type": "code",
   "execution_count": 19,
   "metadata": {},
   "outputs": [
    {
     "name": "stdout",
     "output_type": "stream",
     "text": [
      "Enter a string : name:shreya age:19 date_of_birth:19-04-2001 state:gujarat\n",
      "Dictionary :  {'name': 'shreya', 'age': '19', 'date_of_birth': '19-04-2001', 'state': 'gujarat'}\n",
      "date_of_birth = 19-04-2001\n"
     ]
    }
   ],
   "source": [
    "str = input(\"Enter a string : \")\n",
    "str_dict = dict(x.split(':') for x in str.split(' '))\n",
    "print(\"Dictionary : \",str_dict)\n",
    "for key,value in str_dict.items() :\n",
    "    if key == 'date_of_birth' :\n",
    "        dob = (key,str_dict[key])\n",
    "        print(' = '.join(dob))\n",
    "    else : continue"
   ]
  },
  {
   "cell_type": "markdown",
   "metadata": {},
   "source": [
    "## Practical 2.8 : Write a python program to sort a dictionary by value"
   ]
  },
  {
   "cell_type": "code",
   "execution_count": 8,
   "metadata": {},
   "outputs": [
    {
     "name": "stdout",
     "output_type": "stream",
     "text": [
      "Original Dictionary :  {'a': 5, 'b': 7, 'c': 1, 'd': 3, 'e': 8}\n",
      "Dictionary in Ascending order :  {'c': 1, 'd': 3, 'a': 5, 'b': 7, 'e': 8}\n",
      "Dictionary in Descending order :  {'e': 8, 'b': 7, 'a': 5, 'd': 3, 'c': 1}\n"
     ]
    }
   ],
   "source": [
    "dictionary = {'a':5 , 'b':7 , 'c':1 , 'd':3 , 'e':8}\n",
    "print(\"Original Dictionary : \",dictionary)\n",
    "print(\"Dictionary in Ascending order : \",{key: value for key, value in sorted(dictionary.items(), key=lambda item: item[1])})\n",
    "print(\"Dictionary in Descending order : \",{key:value for key, value in sorted(dictionary.items(), key=lambda item: item[1] , reverse=True)})"
   ]
  }
 ],
 "metadata": {
  "kernelspec": {
   "display_name": "Python 3",
   "language": "python",
   "name": "python3"
  },
  "language_info": {
   "codemirror_mode": {
    "name": "ipython",
    "version": 3
   },
   "file_extension": ".py",
   "mimetype": "text/x-python",
   "name": "python",
   "nbconvert_exporter": "python",
   "pygments_lexer": "ipython3",
   "version": "3.7.6"
  }
 },
 "nbformat": 4,
 "nbformat_minor": 4
}
