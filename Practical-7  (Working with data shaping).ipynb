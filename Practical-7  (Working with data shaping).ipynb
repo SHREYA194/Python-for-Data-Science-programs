{
 "cells": [
  {
   "cell_type": "markdown",
   "metadata": {},
   "source": [
    "# Working with data shaping"
   ]
  },
  {
   "cell_type": "markdown",
   "metadata": {},
   "source": [
    "## Apply bags of words model on the following statements."
   ]
  },
  {
   "cell_type": "markdown",
   "metadata": {},
   "source": [
    "### •\tReview 1: This movie is very scary and long\n",
    "### •\tReview 2: This movie is not scary and is slow\n",
    "### •\tReview 3: This movie is spooky and good"
   ]
  },
  {
   "cell_type": "code",
   "execution_count": 43,
   "metadata": {},
   "outputs": [
    {
     "name": "stdout",
     "output_type": "stream",
     "text": [
      "Review 1 :  ['this', 'movie', 'is', 'very', 'scary', 'and', 'long']\n",
      "Review 2 :  ['this', 'movie', 'is', 'not', 'scary', 'and', 'is', 'slow']\n",
      "Review 3 :  ['this', 'movie', 'is', 'spooky', 'and', 'good']\n",
      "\n",
      "Reviews Transform : \n",
      "[[1 0 1 1 1 0 1 0 0 1 1]\n",
      " [1 0 2 0 1 1 1 1 0 1 0]\n",
      " [1 1 1 0 1 0 0 0 1 1 0]]\n",
      "\n",
      "Vocabulary from all the unique words in the above three reviews : \n",
      "{'this': 9, 'movie': 4, 'is': 2, 'very': 10, 'scary': 6, 'and': 0, 'long': 3, 'not': 5, 'slow': 7, 'spooky': 8, 'good': 1}\n"
     ]
    }
   ],
   "source": [
    "from sklearn.feature_extraction.text import CountVectorizer\n",
    "\n",
    "reviews = ['This movie is very scary and long', 'This movie is not scary and is slow', 'This movie is spooky and good']\n",
    "\n",
    "vectorizer = CountVectorizer()\n",
    "\n",
    "analyze = vectorizer.build_analyzer()\n",
    "for i in range(len(reviews)) : \n",
    "    print(\"Review %d : \"  % (i+1) , analyze(reviews[i]))\n",
    "\n",
    "print(\"\\nReviews Transform : \")\n",
    "print(vectorizer.fit_transform(reviews).todense())\n",
    "\n",
    "print(\"\\nVocabulary from all the unique words in the above three reviews : \")\n",
    "print(vectorizer.vocabulary_)"
   ]
  },
  {
   "cell_type": "markdown",
   "metadata": {},
   "source": [
    "## Apply TF-IDF Model on the following statements."
   ]
  },
  {
   "cell_type": "markdown",
   "metadata": {},
   "source": [
    "### •\tReview 1: This movie is very scary and long\n",
    "### •\tReview 2: This movie is not scary and is slow\n",
    "### •\tReview 3: This movie is spooky and good"
   ]
  },
  {
   "cell_type": "code",
   "execution_count": 52,
   "metadata": {},
   "outputs": [
    {
     "name": "stdout",
     "output_type": "stream",
     "text": [
      "Review 1 :  ['this', 'movie', 'is', 'very', 'scary', 'and', 'long']\n",
      "Review 2 :  ['this', 'movie', 'is', 'not', 'scary', 'and', 'is', 'slow']\n",
      "Review 3 :  ['this', 'movie', 'is', 'spooky', 'and', 'good']\n",
      "\n",
      "Reviews Transform : \n",
      "[[0.29628336 0.         0.29628336 0.50165133 0.29628336 0.\n",
      "  0.38151877 0.         0.         0.29628336 0.50165133]\n",
      " [0.26359985 0.         0.5271997  0.         0.26359985 0.44631334\n",
      "  0.3394328  0.44631334 0.         0.26359985 0.        ]\n",
      " [0.32052772 0.54270061 0.32052772 0.         0.32052772 0.\n",
      "  0.         0.         0.54270061 0.32052772 0.        ]]\n",
      "\n",
      " Vocabulary from all the unique words in the above three reviews : \n",
      "{'this': 9, 'movie': 4, 'is': 2, 'very': 10, 'scary': 6, 'and': 0, 'long': 3, 'not': 5, 'slow': 7, 'spooky': 8, 'good': 1}\n"
     ]
    }
   ],
   "source": [
    "from sklearn.feature_extraction.text import TfidfVectorizer\n",
    "\n",
    "reviews = ['This movie is very scary and long', 'This movie is not scary and is slow', 'This movie is spooky and good']\n",
    "\n",
    "vectorizer = TfidfVectorizer()\n",
    "\n",
    "analyze = vectorizer.build_analyzer()\n",
    "for i in range(len(reviews)) : \n",
    "    print(\"Review %d : \"  % (i+1) , analyze(reviews[i]))\n",
    "\n",
    "print(\"\\nReviews Transform : \")\n",
    "print(vectorizer.fit_transform(reviews).todense())\n",
    "\n",
    "print(\"\\n Vocabulary from all the unique words in the above three reviews : \")\n",
    "print(vectorizer.vocabulary_)"
   ]
  }
 ],
 "metadata": {
  "kernelspec": {
   "display_name": "Python 3",
   "language": "python",
   "name": "python3"
  },
  "language_info": {
   "codemirror_mode": {
    "name": "ipython",
    "version": 3
   },
   "file_extension": ".py",
   "mimetype": "text/x-python",
   "name": "python",
   "nbconvert_exporter": "python",
   "pygments_lexer": "ipython3",
   "version": "3.7.6"
  }
 },
 "nbformat": 4,
 "nbformat_minor": 4
}
